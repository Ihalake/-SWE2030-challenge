{
 "cells": [
  {
   "cell_type": "code",
   "execution_count": 1,
   "id": "231dd7fc",
   "metadata": {},
   "outputs": [
    {
     "name": "stdout",
     "output_type": "stream",
     "text": [
      "C234\n",
      "C15\n",
      "C235\n"
     ]
    }
   ],
   "source": [
    "##Array Challenge in Python\n",
    "\n",
    "orderIds = [\"B123\", \"C234\", \"A345\", \"C15\", \"B177\", \"G3003\", \"C235\", \"B179\"]\n",
    "\n",
    "for item in orderIds:\n",
    "    if item.startswith(\"C\"):\n",
    "        print(item)"
   ]
  },
  {
   "cell_type": "code",
   "execution_count": 2,
   "id": "9a076815",
   "metadata": {},
   "outputs": [
    {
     "name": "stdout",
     "output_type": "stream",
     "text": [
      "A431\n",
      "B062\n",
      "E376\n",
      "C558\n",
      "C029\n"
     ]
    }
   ],
   "source": [
    "#The following code creates five random OrderIDs to test the fraud detection process.  OrderIDs \n",
    " # consist of a letter from A to E, and a three  digit number. Ex. A123.\n",
    "import random\n",
    "\n",
    "orderIDs = []\n",
    "\n",
    "for i in range(5):\n",
    "    prefix_value = random.randint(65, 69)\n",
    "    prefix = chr(prefix_value)\n",
    "    suffix = str(random.randint(1, 999)).zfill(3)\n",
    "    \n",
    "    orderIDs.append(prefix + suffix)\n",
    "\n",
    "for orderID in orderIDs:\n",
    "    print(orderID)"
   ]
  },
  {
   "cell_type": "markdown",
   "id": "511bf3d8",
   "metadata": {},
   "source": [
    "In Python, we don't have specific keywords for different integer data types with fixed ranges like C#. Instead,\n",
    "Python's int data type can represent arbitrary-precision integers.\n",
    "To mimic the C# behavior, we use bit manipulation to calculate the minimum and maximum values for the given ranges"
   ]
  },
  {
   "cell_type": "code",
   "execution_count": 3,
   "id": "61ae1887",
   "metadata": {},
   "outputs": [
    {
     "name": "stdout",
     "output_type": "stream",
     "text": [
      "Signed integral type:\n",
      "sbyte : -128 to 127\n",
      "short : -32768 to 32767\n",
      "int : -2147483648 to 2147483647\n",
      "long : -9223372036854775808 to 9223372036854775807\n"
     ]
    }
   ],
   "source": [
    "print(\"Signed integral type:\")\n",
    "print(f\"sbyte : {-(2**7)} to {(2**7)-1}\")\n",
    "print(f\"short : {-(2**15)} to {(2**15)-1}\")\n",
    "print(f\"int : {-(2**31)} to {(2**31)-1}\")\n",
    "print(f\"long : {-(2**63)} to {(2**63)-1}\")"
   ]
  },
  {
   "cell_type": "code",
   "execution_count": 4,
   "id": "8b43529f",
   "metadata": {},
   "outputs": [
    {
     "name": "stdout",
     "output_type": "stream",
     "text": [
      "ehT\n",
      "kciuq\n",
      "nworb\n",
      "xof\n",
      "spmuj\n",
      "revo\n",
      "eht\n",
      "yzal\n",
      "god\n"
     ]
    }
   ],
   "source": [
    "# String Challenge\n",
    "s = \"The quick brown fox jumps over the lazy dog\"\n",
    "\n",
    "subs = s.split()\n",
    "\n",
    "for sub in subs:\n",
    "    result = sub[::-1]\n",
    "    print(result)"
   ]
  },
  {
   "cell_type": "markdown",
   "id": "81210ade",
   "metadata": {},
   "source": [
    "merging two sorted lists"
   ]
  },
  {
   "cell_type": "code",
   "execution_count": 5,
   "id": "63c07dde",
   "metadata": {},
   "outputs": [
    {
     "name": "stdout",
     "output_type": "stream",
     "text": [
      "1 -> 2 -> 3 -> 4 -> 5 -> 6 -> "
     ]
    }
   ],
   "source": [
    "class ListNode:\n",
    "    def __init__(self, val=0, next=None):\n",
    "        self.val = val\n",
    "        self.next = next\n",
    "\n",
    "def merge_two_lists(list1, list2):\n",
    "    dummy_list = ListNode()\n",
    "    head = dummy_list\n",
    "\n",
    "    while list1 and list2:\n",
    "        if list1.val <= list2.val:\n",
    "            dummy_list.next = list1\n",
    "            dummy_list = dummy_list.next\n",
    "            list1 = list1.next\n",
    "        else:\n",
    "            dummy_list.next = list2\n",
    "            dummy_list = dummy_list.next\n",
    "            list2 = list2.next\n",
    "\n",
    "    if list1:\n",
    "        dummy_list.next = list1\n",
    "    elif list2:\n",
    "        dummy_list.next = list2\n",
    "\n",
    "    return head.next\n",
    "\n",
    "# Test case example:\n",
    "# Create sorted linked lists\n",
    "list1 = ListNode(1)\n",
    "list1.next = ListNode(3)\n",
    "list1.next.next = ListNode(5)\n",
    "\n",
    "list2 = ListNode(2)\n",
    "list2.next = ListNode(4)\n",
    "list2.next.next = ListNode(6)\n",
    "\n",
    "# Merge the two sorted lists\n",
    "result = merge_two_lists(list1, list2)\n",
    "\n",
    "# Print the merged linked list\n",
    "while result:\n",
    "    print(result.val, end=\" -> \")\n",
    "    result = result.next\n",
    "\n"
   ]
  },
  {
   "cell_type": "markdown",
   "id": "5359a874",
   "metadata": {},
   "source": [
    "##implementation of the Two Sum problem"
   ]
  },
  {
   "cell_type": "code",
   "execution_count": 7,
   "id": "fc6742b5",
   "metadata": {},
   "outputs": [
    {
     "name": "stdout",
     "output_type": "stream",
     "text": [
      "[0, 1]\n"
     ]
    }
   ],
   "source": [
    "class Solution:\n",
    "    def twoSum(self, nums, target):\n",
    "        result = [0, 0]\n",
    "\n",
    "        for i in range(len(nums)):\n",
    "            for j in range(i + 1, len(nums)):\n",
    "                if nums[i] + nums[j] == target:\n",
    "                    result[0] = i\n",
    "                    result[1] = j\n",
    "                    return result\n",
    "\n",
    "        return result\n",
    "\n",
    "\n",
    "# Test case example:\n",
    "solution = Solution()\n",
    "nums = [2, 7, 11, 15]\n",
    "target = 9\n",
    "output = solution.twoSum(nums, target)\n",
    "print(output)\n"
   ]
  }
 ],
 "metadata": {
  "kernelspec": {
   "display_name": "Python 3 (ipykernel)",
   "language": "python",
   "name": "python3"
  },
  "language_info": {
   "codemirror_mode": {
    "name": "ipython",
    "version": 3
   },
   "file_extension": ".py",
   "mimetype": "text/x-python",
   "name": "python",
   "nbconvert_exporter": "python",
   "pygments_lexer": "ipython3",
   "version": "3.10.9"
  }
 },
 "nbformat": 4,
 "nbformat_minor": 5
}
